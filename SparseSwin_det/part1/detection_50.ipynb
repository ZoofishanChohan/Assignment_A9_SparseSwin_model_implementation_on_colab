{
  "nbformat": 4,
  "nbformat_minor": 0,
  "metadata": {
    "colab": {
      "provenance": [],
      "gpuType": "T4",
      "authorship_tag": "ABX9TyPrF8bBo5najwX7TCnPHwDE",
      "include_colab_link": true
    },
    "kernelspec": {
      "name": "python3",
      "display_name": "Python 3"
    },
    "language_info": {
      "name": "python"
    },
    "accelerator": "GPU"
  },
  "cells": [
    {
      "cell_type": "markdown",
      "metadata": {
        "id": "view-in-github",
        "colab_type": "text"
      },
      "source": [
        "<a href=\"https://colab.research.google.com/github/ZoofishanChohan/Assignment_A9_SparseSwin_model_implementation_on_colab/blob/main/detection_50.ipynb\" target=\"_parent\"><img src=\"https://colab.research.google.com/assets/colab-badge.svg\" alt=\"Open In Colab\"/></a>"
      ]
    },
    {
      "cell_type": "code",
      "execution_count": null,
      "metadata": {
        "id": "w3CLaQ6yqaPS"
      },
      "outputs": [],
      "source": [
        "%cd /content\n",
        "!git clone https://github.com/KrisnaPinasthika/SparseSwin.git\n",
        "%cd SparseSwin/SparseSwinDet\n"
      ]
    },
    {
      "cell_type": "code",
      "source": [
        "!pip install -r requirements.txt"
      ],
      "metadata": {
        "id": "DzXq1GNwr0x2"
      },
      "execution_count": null,
      "outputs": []
    },
    {
      "cell_type": "code",
      "source": [
        "!pip install torchprofile"
      ],
      "metadata": {
        "id": "5ORKYF9M1onv"
      },
      "execution_count": null,
      "outputs": []
    },
    {
      "cell_type": "code",
      "source": [
        "!pip install thop"
      ],
      "metadata": {
        "id": "ZMSPKumfTyns"
      },
      "execution_count": null,
      "outputs": []
    },
    {
      "cell_type": "code",
      "source": [
        "import time\n",
        "import random\n",
        "\n",
        "# Add this to keep the session active\n",
        "while True:\n",
        "    print(f\"Keeping session alive: {time.strftime('%Y-%m-%d %H:%M:%S')}\")\n",
        "    time.sleep(300)  # Print every 5 minutes\n",
        "    # Add some random computation to show activity\n",
        "    dummy = sum([random.randint(1,100) for _ in range(1000)])"
      ],
      "metadata": {
        "id": "sfivEKqfEev2"
      },
      "execution_count": null,
      "outputs": []
    },
    {
      "cell_type": "code",
      "source": [
        "from google.colab import drive\n",
        "drive.mount('/content/drive')"
      ],
      "metadata": {
        "colab": {
          "base_uri": "https://localhost:8080/"
        },
        "id": "U_3m51vlslyl",
        "outputId": "8811dc53-6638-4e8a-ed35-ccaac67465d3"
      },
      "execution_count": null,
      "outputs": [
        {
          "output_type": "stream",
          "name": "stdout",
          "text": [
            "Mounted at /content/drive\n"
          ]
        }
      ]
    },
    {
      "cell_type": "code",
      "source": [
        "!python train.py \\\n",
        "--data_path /content/drive/MyDrive/tiny_coco/ \\\n",
        "--sparseswin_type tiny  \\\n",
        "--num_epochs 50 \\\n",
        "--log_path /content/drive/MyDrive/tiny_coco_50/logs \\\n",
        "--saved_path /content/drive/MyDrive/tiny_coco_50/trainedparams\n"
      ],
      "metadata": {
        "id": "nmv7WFCxxgBM"
      },
      "execution_count": null,
      "outputs": []
    },
    {
      "cell_type": "code",
      "source": [
        "!python mAP_evaluation.py"
      ],
      "metadata": {
        "colab": {
          "base_uri": "https://localhost:8080/"
        },
        "id": "M6F_1VXFOmTS",
        "outputId": "7b3df370-241b-4f64-9d4d-4253860ece79"
      },
      "execution_count": null,
      "outputs": [
        {
          "output_type": "stream",
          "name": "stdout",
          "text": [
            "loading annotations into memory...\n",
            "Done (t=0.01s)\n",
            "creating index...\n",
            "index created!\n",
            "Image 0: 0 detections, max score: 0.0000\n",
            "Image 1: 0 detections, max score: 0.0000\n",
            "Image 2: 0 detections, max score: 0.0000\n",
            "Image 3: 0 detections, max score: 0.0000\n",
            "Image 4: 0 detections, max score: 0.0000\n",
            "Image 5: 0 detections, max score: 0.0000\n",
            "Image 6: 0 detections, max score: 0.0000\n",
            "Image 7: 0 detections, max score: 0.0000\n",
            "Image 8: 0 detections, max score: 0.0000\n",
            "Image 9: 0 detections, max score: 0.0000\n",
            "Image 10: 0 detections, max score: 0.0000\n",
            "Image 11: 0 detections, max score: 0.0000\n",
            "Image 12: 0 detections, max score: 0.0000\n",
            "Image 13: 0 detections, max score: 0.0000\n",
            "Image 14: 0 detections, max score: 0.0000\n",
            "Image 15: 0 detections, max score: 0.0000\n",
            "Image 16: 0 detections, max score: 0.0000\n",
            "Image 17: 0 detections, max score: 0.0000\n",
            "Image 18: 0 detections, max score: 0.0000\n",
            "Image 19: 0 detections, max score: 0.0000\n",
            "Image 20: 0 detections, max score: 0.0000\n",
            "Image 21: 0 detections, max score: 0.0000\n",
            "Image 22: 0 detections, max score: 0.0000\n",
            "Image 23: 0 detections, max score: 0.0000\n",
            "Image 24: 0 detections, max score: 0.0000\n",
            "Image 25: 0 detections, max score: 0.0000\n",
            "Image 26: 0 detections, max score: 0.0000\n",
            "Image 27: 0 detections, max score: 0.0000\n",
            "Image 28: 0 detections, max score: 0.0000\n",
            "Image 29: 0 detections, max score: 0.0000\n",
            "Image 30: 0 detections, max score: 0.0000\n",
            "Image 31: 0 detections, max score: 0.0000\n",
            "Image 32: 0 detections, max score: 0.0000\n",
            "Image 33: 0 detections, max score: 0.0000\n",
            "Image 34: 0 detections, max score: 0.0000\n",
            "Image 35: 0 detections, max score: 0.0000\n",
            "Image 36: 0 detections, max score: 0.0000\n",
            "Image 37: 0 detections, max score: 0.0000\n",
            "Image 38: 0 detections, max score: 0.0000\n",
            "Image 39: 0 detections, max score: 0.0000\n",
            "Image 40: 0 detections, max score: 0.0000\n",
            "Image 41: 0 detections, max score: 0.0000\n",
            "Image 42: 0 detections, max score: 0.0000\n",
            "Image 43: 0 detections, max score: 0.0000\n",
            "Image 44: 0 detections, max score: 0.0000\n",
            "Image 45: 0 detections, max score: 0.0000\n",
            "Image 46: 0 detections, max score: 0.0000\n",
            "Image 47: 0 detections, max score: 0.0000\n",
            "Image 48: 0 detections, max score: 0.0000\n",
            "Image 49: 0 detections, max score: 0.0000\n",
            "No results found!\n"
          ]
        }
      ]
    }
  ]
}
