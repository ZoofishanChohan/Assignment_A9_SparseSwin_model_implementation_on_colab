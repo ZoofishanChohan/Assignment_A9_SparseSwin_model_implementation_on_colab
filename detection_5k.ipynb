{
  "nbformat": 4,
  "nbformat_minor": 0,
  "metadata": {
    "colab": {
      "provenance": [],
      "gpuType": "L4",
      "authorship_tag": "ABX9TyPaUwAnEdNsfjb25kxxULeS",
      "include_colab_link": true
    },
    "kernelspec": {
      "name": "python3",
      "display_name": "Python 3"
    },
    "language_info": {
      "name": "python"
    },
    "accelerator": "GPU"
  },
  "cells": [
    {
      "cell_type": "markdown",
      "metadata": {
        "id": "view-in-github",
        "colab_type": "text"
      },
      "source": [
        "<a href=\"https://colab.research.google.com/github/ZoofishanChohan/Assignment_A9_SparseSwin_model_implementation_on_colab/blob/main/detection_5k.ipynb\" target=\"_parent\"><img src=\"https://colab.research.google.com/assets/colab-badge.svg\" alt=\"Open In Colab\"/></a>"
      ]
    },
    {
      "cell_type": "code",
      "execution_count": null,
      "metadata": {
        "id": "5Zk4dpq9ATFK"
      },
      "outputs": [],
      "source": [
        "%cd /content\n",
        "!git clone https://github.com/KrisnaPinasthika/SparseSwin.git\n",
        "%cd SparseSwin/SparseSwinDet\n"
      ]
    },
    {
      "cell_type": "code",
      "source": [
        "!pip install -r requirements.txt"
      ],
      "metadata": {
        "id": "sdBAXtdbAcrr"
      },
      "execution_count": null,
      "outputs": []
    },
    {
      "cell_type": "code",
      "source": [
        "!pip install torchprofile"
      ],
      "metadata": {
        "id": "BojhARoQQzH-"
      },
      "execution_count": null,
      "outputs": []
    },
    {
      "cell_type": "code",
      "source": [
        "from google.colab import drive\n",
        "drive.mount('/content/drive')"
      ],
      "metadata": {
        "colab": {
          "base_uri": "https://localhost:8080/"
        },
        "id": "oglOolVJAvx5",
        "outputId": "1fce2a31-a1e0-443e-ba95-bef942ef1bfd"
      },
      "execution_count": null,
      "outputs": [
        {
          "output_type": "stream",
          "name": "stdout",
          "text": [
            "Mounted at /content/drive\n"
          ]
        }
      ]
    },
    {
      "cell_type": "code",
      "source": [
        "!python train.py \\\n",
        "--data_path /content/drive/MyDrive/coco_subset/ \\\n",
        "--sparseswin_type tiny  \\\n",
        "--num_epochs 10 \\\n",
        "--log_path /content/drive/MyDrive/coco_50_tra/logs \\\n",
        "--saved_path /content/drive/MyDrive/coco_50_tra/trainedparams"
      ],
      "metadata": {
        "colab": {
          "base_uri": "https://localhost:8080/"
        },
        "id": "00vhzkU5A0BW",
        "outputId": "c7dbf202-a57e-486c-b604-cb2dedf45daf"
      },
      "execution_count": null,
      "outputs": [
        {
          "output_type": "stream",
          "name": "stdout",
          "text": [
            "loading annotations into memory...\n",
            "Done (t=0.61s)\n",
            "creating index...\n",
            "index created!\n",
            "loading annotations into memory...\n",
            "Done (t=0.28s)\n",
            "creating index...\n",
            "index created!\n",
            "/usr/local/lib/python3.11/dist-packages/torch/optim/lr_scheduler.py:62: UserWarning: The verbose parameter is deprecated. Please use get_last_lr() to access the learning rate.\n",
            "  warnings.warn(\n",
            "Epoch: 1/10. Iteration: 500/500. Cls loss: 0.87505. Reg loss: 0.87914. Batch loss: 1.75418 Total loss: 1.90202: 100% 500/500 [10:13<00:00,  1.23s/it]\n",
            "Epoch: 1/10. Classification loss: 0.81746. Regression loss: 0.84233. Total loss: 1.65979\n",
            "Epoch: 2/10. Iteration: 500/500. Cls loss: 0.77173. Reg loss: 0.67132. Batch loss: 1.44305 Total loss: 1.59137: 100% 500/500 [04:36<00:00,  1.81it/s]\n",
            "Epoch: 2/10. Classification loss: 0.74187. Regression loss: 0.73300. Total loss: 1.47486\n",
            "Epoch: 3/10. Iteration: 500/500. Cls loss: 0.80310. Reg loss: 0.77388. Batch loss: 1.57697 Total loss: 1.43044: 100% 500/500 [04:37<00:00,  1.80it/s]\n",
            "Epoch: 3/10. Classification loss: 0.69718. Regression loss: 0.68658. Total loss: 1.38376\n",
            "Epoch: 4/10. Iteration: 500/500. Cls loss: 0.53384. Reg loss: 0.68986. Batch loss: 1.22370 Total loss: 1.32170: 100% 500/500 [04:40<00:00,  1.78it/s]\n",
            "Epoch: 4/10. Classification loss: 0.65302. Regression loss: 0.65654. Total loss: 1.30956\n",
            "Epoch: 5/10. Iteration: 500/500. Cls loss: 0.60758. Reg loss: 0.71313. Batch loss: 1.32071 Total loss: 1.22437: 100% 500/500 [04:36<00:00,  1.81it/s]\n",
            "Epoch: 5/10. Classification loss: 0.61552. Regression loss: 0.63805. Total loss: 1.25357\n",
            "Epoch: 6/10. Iteration: 500/500. Cls loss: 0.67677. Reg loss: 0.67343. Batch loss: 1.35020 Total loss: 1.14990: 100% 500/500 [04:38<00:00,  1.80it/s]\n",
            "Epoch: 6/10. Classification loss: 0.58018. Regression loss: 0.62550. Total loss: 1.20568\n",
            "Epoch: 7/10. Iteration: 500/500. Cls loss: 0.44465. Reg loss: 0.45928. Batch loss: 0.90394 Total loss: 1.08573: 100% 500/500 [04:37<00:00,  1.80it/s]\n",
            "Epoch: 7/10. Classification loss: 0.57335. Regression loss: 0.61245. Total loss: 1.18580\n",
            "Epoch: 8/10. Iteration: 500/500. Cls loss: 0.50335. Reg loss: 0.61347. Batch loss: 1.11682 Total loss: 1.03278: 100% 500/500 [04:37<00:00,  1.80it/s]\n",
            "Epoch: 8/10. Classification loss: 0.58584. Regression loss: 0.61427. Total loss: 1.20010\n",
            "Epoch: 9/10. Iteration: 500/500. Cls loss: 0.44173. Reg loss: 0.42210. Batch loss: 0.86383 Total loss: 0.98516: 100% 500/500 [04:37<00:00,  1.80it/s]\n",
            "Epoch: 9/10. Classification loss: 0.54026. Regression loss: 0.59982. Total loss: 1.14008\n",
            "Epoch: 10/10. Iteration: 500/500. Cls loss: 0.36492. Reg loss: 0.35464. Batch loss: 0.71956 Total loss: 0.93702: 100% 500/500 [04:38<00:00,  1.80it/s]\n",
            "Epoch: 10/10. Classification loss: 0.55739. Regression loss: 0.59959. Total loss: 1.15698\n"
          ]
        }
      ]
    },
    {
      "cell_type": "code",
      "source": [
        "import time\n",
        "import random\n",
        "\n",
        "# Add this to keep the session active\n",
        "while True:\n",
        "    print(f\"Keeping session alive: {time.strftime('%Y-%m-%d %H:%M:%S')}\")\n",
        "    time.sleep(300)  # Print every 5 minutes\n",
        "    # Add some random computation to show activity\n",
        "    dummy = sum([random.randint(1,100) for _ in range(1000)])"
      ],
      "metadata": {
        "id": "kbP-2_VQMSZy"
      },
      "execution_count": null,
      "outputs": []
    },
    {
      "cell_type": "code",
      "source": [
        "! python mAP_evaluation.py"
      ],
      "metadata": {
        "colab": {
          "base_uri": "https://localhost:8080/"
        },
        "id": "6lntVQuhQLw7",
        "outputId": "adb6bb60-ce88-4fa2-d42b-018b6f35466c"
      },
      "execution_count": null,
      "outputs": [
        {
          "output_type": "stream",
          "name": "stdout",
          "text": [
            "loading annotations into memory...\n",
            "Done (t=0.12s)\n",
            "creating index...\n",
            "index created!\n",
            "Loading and preparing results...\n",
            "DONE (t=0.16s)\n",
            "creating index...\n",
            "index created!\n",
            "Running per image evaluation...\n",
            "Evaluate annotation type *bbox*\n",
            "DONE (t=2.35s).\n",
            "Accumulating evaluation results...\n",
            "DONE (t=0.59s).\n",
            " Average Precision  (AP) @[ IoU=0.50:0.95 | area=   all | maxDets=100 ] = 0.035\n",
            " Average Precision  (AP) @[ IoU=0.50      | area=   all | maxDets=100 ] = 0.068\n",
            " Average Precision  (AP) @[ IoU=0.75      | area=   all | maxDets=100 ] = 0.032\n",
            " Average Precision  (AP) @[ IoU=0.50:0.95 | area= small | maxDets=100 ] = 0.004\n",
            " Average Precision  (AP) @[ IoU=0.50:0.95 | area=medium | maxDets=100 ] = 0.028\n",
            " Average Precision  (AP) @[ IoU=0.50:0.95 | area= large | maxDets=100 ] = 0.059\n",
            " Average Recall     (AR) @[ IoU=0.50:0.95 | area=   all | maxDets=  1 ] = 0.045\n",
            " Average Recall     (AR) @[ IoU=0.50:0.95 | area=   all | maxDets= 10 ] = 0.060\n",
            " Average Recall     (AR) @[ IoU=0.50:0.95 | area=   all | maxDets=100 ] = 0.061\n",
            " Average Recall     (AR) @[ IoU=0.50:0.95 | area= small | maxDets=100 ] = 0.004\n",
            " Average Recall     (AR) @[ IoU=0.50:0.95 | area=medium | maxDets=100 ] = 0.050\n",
            " Average Recall     (AR) @[ IoU=0.50:0.95 | area= large | maxDets=100 ] = 0.102\n"
          ]
        }
      ]
    },
    {
      "cell_type": "code",
      "source": [
        "!cp -r /content/SparseSwin /content/drive/MyDrive/SparseSwin_detection/"
      ],
      "metadata": {
        "id": "HkbwGs5HQt13"
      },
      "execution_count": null,
      "outputs": []
    }
  ]
}