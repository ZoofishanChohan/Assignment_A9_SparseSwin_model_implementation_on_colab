{
  "nbformat": 4,
  "nbformat_minor": 0,
  "metadata": {
    "colab": {
      "provenance": [],
      "gpuType": "T4"
    },
    "kernelspec": {
      "name": "python3",
      "display_name": "Python 3"
    },
    "language_info": {
      "name": "python"
    },
    "accelerator": "GPU"
  },
  "cells": [
    {
      "cell_type": "code",
      "execution_count": null,
      "metadata": {
        "id": "w3CLaQ6yqaPS"
      },
      "outputs": [],
      "source": [
        "%cd /content\n",
        "!git clone https://github.com/KrisnaPinasthika/SparseSwin.git\n",
        "%cd SparseSwin/SparseSwinDet\n"
      ]
    },
    {
      "cell_type": "code",
      "source": [
        "!pip install -r requirements.txt"
      ],
      "metadata": {
        "id": "DzXq1GNwr0x2"
      },
      "execution_count": null,
      "outputs": []
    },
    {
      "cell_type": "code",
      "source": [
        "!pip install torchprofile"
      ],
      "metadata": {
        "id": "5ORKYF9M1onv"
      },
      "execution_count": null,
      "outputs": []
    },
    {
      "cell_type": "code",
      "source": [
        "!pip install thop"
      ],
      "metadata": {
        "id": "ZMSPKumfTyns"
      },
      "execution_count": null,
      "outputs": []
    },
    {
      "cell_type": "code",
      "source": [
        "import time\n",
        "import random\n",
        "\n",
        "# Add this to keep the session active\n",
        "while True:\n",
        "    print(f\"Keeping session alive: {time.strftime('%Y-%m-%d %H:%M:%S')}\")\n",
        "    time.sleep(300)  # Print every 5 minutes\n",
        "    # Add some random computation to show activity\n",
        "    dummy = sum([random.randint(1,100) for _ in range(1000)])"
      ],
      "metadata": {
        "id": "sfivEKqfEev2"
      },
      "execution_count": null,
      "outputs": []
    },
    {
      "cell_type": "code",
      "source": [
        "from google.colab import drive\n",
        "drive.mount('/content/drive')"
      ],
      "metadata": {
        "colab": {
          "base_uri": "https://localhost:8080/"
        },
        "id": "U_3m51vlslyl",
        "outputId": "8811dc53-6638-4e8a-ed35-ccaac67465d3"
      },
      "execution_count": null,
      "outputs": [
        {
          "output_type": "stream",
          "name": "stdout",
          "text": [
            "Mounted at /content/drive\n"
          ]
        }
      ]
    },
    {
      "cell_type": "code",
      "source": [
        "!python train.py \\\n",
        "--data_path /content/drive/MyDrive/tiny_coco/ \\\n",
        "--sparseswin_type tiny  \\\n",
        "--num_epochs 50 \\\n",
        "--log_path /content/drive/MyDrive/tiny_coco_50/logs \\\n",
        "--saved_path /content/drive/MyDrive/tiny_coco_50/trainedparams\n"
      ],
      "metadata": {
        "id": "nmv7WFCxxgBM"
      },
      "execution_count": null,
      "outputs": []
    },
    {
      "cell_type": "code",
      "source": [
        "from tensorboard.backend.event_processing.event_accumulator import EventAccumulator\n",
        "import pandas as pd\n",
        "import os\n",
        "\n",
        "\n",
        "log_dir = '/content/drive/MyDrive/tiny_coco_50/logs'\n",
        "event_files = [f for f in os.listdir(log_dir) if 'tfevents' in f]\n",
        "\n",
        "assert event_files, \"No TensorBoard event files found.\"\n",
        "\n",
        "# Load the first (or latest) event file\n",
        "event_path = os.path.join(log_dir, event_files[0])\n",
        "ea = EventAccumulator(event_path)\n",
        "ea.Reload()\n"
      ],
      "metadata": {
        "colab": {
          "base_uri": "https://localhost:8080/"
        },
        "id": "Y8XKVegFnCmG",
        "outputId": "62d034c6-e95d-4342-8504-1ca75e42aff2"
      },
      "execution_count": null,
      "outputs": [
        {
          "output_type": "execute_result",
          "data": {
            "text/plain": [
              "<tensorboard.backend.event_processing.event_accumulator.EventAccumulator at 0x7d031cc87390>"
            ]
          },
          "metadata": {},
          "execution_count": 8
        }
      ]
    },
    {
      "cell_type": "code",
      "source": [
        "# List all scalar tags (metrics)\n",
        "print(\"Available scalar tags:\")\n",
        "print(ea.Tags()['scalars'])\n"
      ],
      "metadata": {
        "id": "bKRgyeD6oRRW"
      },
      "execution_count": null,
      "outputs": []
    },
    {
      "cell_type": "code",
      "source": [
        "tags = [\n",
        "    'Train/Total_loss',\n",
        "    'Train/Regression_loss',\n",
        "    'Train/Classfication_loss__focal_loss_',\n",
        "    'Test/Total_loss',\n",
        "    'Test/Regression_loss',\n",
        "    'Test/Classfication_loss__focal_loss_'\n",
        "]\n",
        "\n",
        "# Create a dictionary of dataframes\n",
        "dfs = {}\n",
        "\n",
        "for tag in tags:\n",
        "    events = ea.Scalars(tag)\n",
        "    df = pd.DataFrame(events)\n",
        "    df = df.rename(columns={'step': 'iteration', 'value': tag})\n",
        "    dfs[tag] = df[['iteration', tag]]\n",
        "\n",
        "# Merge all dataframes on 'iteration'\n",
        "from functools import reduce\n",
        "\n",
        "merged_df = reduce(lambda left, right: pd.merge(left, right, on='iteration', how='outer'), dfs.values())\n",
        "merged_df = merged_df.sort_values('iteration').reset_index(drop=True)\n",
        "\n",
        "# Save as CSV and TXT\n",
        "merged_df.to_csv('/content/drive/MyDrive/tiny_coco_50/logs/loss_logs.csv', index=False)\n",
        "merged_df.to_csv('/content/drive/MyDrive/tiny_coco_50/logs/loss_logs.txt', sep='\\t', index=False)\n"
      ],
      "metadata": {
        "colab": {
          "base_uri": "https://localhost:8080/",
          "height": 211
        },
        "id": "REbS1FOQMzol",
        "outputId": "5b4c21b1-89f9-4d03-bff9-ae43fe73ec7a"
      },
      "execution_count": null,
      "outputs": [
        {
          "output_type": "error",
          "ename": "NameError",
          "evalue": "name 'ea' is not defined",
          "traceback": [
            "\u001b[0;31m---------------------------------------------------------------------------\u001b[0m",
            "\u001b[0;31mNameError\u001b[0m                                 Traceback (most recent call last)",
            "\u001b[0;32m/tmp/ipython-input-1009813993.py\u001b[0m in \u001b[0;36m<cell line: 0>\u001b[0;34m()\u001b[0m\n\u001b[1;32m     12\u001b[0m \u001b[0;34m\u001b[0m\u001b[0m\n\u001b[1;32m     13\u001b[0m \u001b[0;32mfor\u001b[0m \u001b[0mtag\u001b[0m \u001b[0;32min\u001b[0m \u001b[0mtags\u001b[0m\u001b[0;34m:\u001b[0m\u001b[0;34m\u001b[0m\u001b[0;34m\u001b[0m\u001b[0m\n\u001b[0;32m---> 14\u001b[0;31m     \u001b[0mevents\u001b[0m \u001b[0;34m=\u001b[0m \u001b[0mea\u001b[0m\u001b[0;34m.\u001b[0m\u001b[0mScalars\u001b[0m\u001b[0;34m(\u001b[0m\u001b[0mtag\u001b[0m\u001b[0;34m)\u001b[0m\u001b[0;34m\u001b[0m\u001b[0;34m\u001b[0m\u001b[0m\n\u001b[0m\u001b[1;32m     15\u001b[0m     \u001b[0mdf\u001b[0m \u001b[0;34m=\u001b[0m \u001b[0mpd\u001b[0m\u001b[0;34m.\u001b[0m\u001b[0mDataFrame\u001b[0m\u001b[0;34m(\u001b[0m\u001b[0mevents\u001b[0m\u001b[0;34m)\u001b[0m\u001b[0;34m\u001b[0m\u001b[0;34m\u001b[0m\u001b[0m\n\u001b[1;32m     16\u001b[0m     \u001b[0mdf\u001b[0m \u001b[0;34m=\u001b[0m \u001b[0mdf\u001b[0m\u001b[0;34m.\u001b[0m\u001b[0mrename\u001b[0m\u001b[0;34m(\u001b[0m\u001b[0mcolumns\u001b[0m\u001b[0;34m=\u001b[0m\u001b[0;34m{\u001b[0m\u001b[0;34m'step'\u001b[0m\u001b[0;34m:\u001b[0m \u001b[0;34m'iteration'\u001b[0m\u001b[0;34m,\u001b[0m \u001b[0;34m'value'\u001b[0m\u001b[0;34m:\u001b[0m \u001b[0mtag\u001b[0m\u001b[0;34m}\u001b[0m\u001b[0;34m)\u001b[0m\u001b[0;34m\u001b[0m\u001b[0;34m\u001b[0m\u001b[0m\n",
            "\u001b[0;31mNameError\u001b[0m: name 'ea' is not defined"
          ]
        }
      ]
    },
    {
      "cell_type": "code",
      "source": [
        "!python mAP_evaluation.py"
      ],
      "metadata": {
        "colab": {
          "base_uri": "https://localhost:8080/"
        },
        "id": "M6F_1VXFOmTS",
        "outputId": "7b3df370-241b-4f64-9d4d-4253860ece79"
      },
      "execution_count": null,
      "outputs": [
        {
          "output_type": "stream",
          "name": "stdout",
          "text": [
            "loading annotations into memory...\n",
            "Done (t=0.01s)\n",
            "creating index...\n",
            "index created!\n",
            "Image 0: 0 detections, max score: 0.0000\n",
            "Image 1: 0 detections, max score: 0.0000\n",
            "Image 2: 0 detections, max score: 0.0000\n",
            "Image 3: 0 detections, max score: 0.0000\n",
            "Image 4: 0 detections, max score: 0.0000\n",
            "Image 5: 0 detections, max score: 0.0000\n",
            "Image 6: 0 detections, max score: 0.0000\n",
            "Image 7: 0 detections, max score: 0.0000\n",
            "Image 8: 0 detections, max score: 0.0000\n",
            "Image 9: 0 detections, max score: 0.0000\n",
            "Image 10: 0 detections, max score: 0.0000\n",
            "Image 11: 0 detections, max score: 0.0000\n",
            "Image 12: 0 detections, max score: 0.0000\n",
            "Image 13: 0 detections, max score: 0.0000\n",
            "Image 14: 0 detections, max score: 0.0000\n",
            "Image 15: 0 detections, max score: 0.0000\n",
            "Image 16: 0 detections, max score: 0.0000\n",
            "Image 17: 0 detections, max score: 0.0000\n",
            "Image 18: 0 detections, max score: 0.0000\n",
            "Image 19: 0 detections, max score: 0.0000\n",
            "Image 20: 0 detections, max score: 0.0000\n",
            "Image 21: 0 detections, max score: 0.0000\n",
            "Image 22: 0 detections, max score: 0.0000\n",
            "Image 23: 0 detections, max score: 0.0000\n",
            "Image 24: 0 detections, max score: 0.0000\n",
            "Image 25: 0 detections, max score: 0.0000\n",
            "Image 26: 0 detections, max score: 0.0000\n",
            "Image 27: 0 detections, max score: 0.0000\n",
            "Image 28: 0 detections, max score: 0.0000\n",
            "Image 29: 0 detections, max score: 0.0000\n",
            "Image 30: 0 detections, max score: 0.0000\n",
            "Image 31: 0 detections, max score: 0.0000\n",
            "Image 32: 0 detections, max score: 0.0000\n",
            "Image 33: 0 detections, max score: 0.0000\n",
            "Image 34: 0 detections, max score: 0.0000\n",
            "Image 35: 0 detections, max score: 0.0000\n",
            "Image 36: 0 detections, max score: 0.0000\n",
            "Image 37: 0 detections, max score: 0.0000\n",
            "Image 38: 0 detections, max score: 0.0000\n",
            "Image 39: 0 detections, max score: 0.0000\n",
            "Image 40: 0 detections, max score: 0.0000\n",
            "Image 41: 0 detections, max score: 0.0000\n",
            "Image 42: 0 detections, max score: 0.0000\n",
            "Image 43: 0 detections, max score: 0.0000\n",
            "Image 44: 0 detections, max score: 0.0000\n",
            "Image 45: 0 detections, max score: 0.0000\n",
            "Image 46: 0 detections, max score: 0.0000\n",
            "Image 47: 0 detections, max score: 0.0000\n",
            "Image 48: 0 detections, max score: 0.0000\n",
            "Image 49: 0 detections, max score: 0.0000\n",
            "No results found!\n"
          ]
        }
      ]
    },
    {
      "cell_type": "code",
      "source": [
        "!python test_dataset.py\n",
        "#--pretrained_model /content/drive/MyDrive/tiny_coco_50/trainedparams/signatrix_sparseswin_coco.pth"
      ],
      "metadata": {
        "colab": {
          "base_uri": "https://localhost:8080/"
        },
        "id": "Mx7D9cL1-iXG",
        "outputId": "5d2a860d-451b-4122-ea1d-a1ce5b0cd56a"
      },
      "execution_count": null,
      "outputs": [
        {
          "output_type": "stream",
          "name": "stdout",
          "text": [
            "loading annotations into memory...\n",
            "Done (t=0.01s)\n",
            "creating index...\n",
            "index created!\n",
            "0\n",
            "1\n",
            "2\n",
            "3\n",
            "4\n",
            "5\n",
            "6\n",
            "7\n",
            "8\n",
            "9\n",
            "10\n",
            "11\n",
            "12\n",
            "13\n",
            "14\n",
            "15\n",
            "16\n",
            "17\n",
            "18\n",
            "19\n",
            "20\n",
            "21\n",
            "22\n",
            "23\n",
            "24\n",
            "25\n",
            "26\n",
            "27\n",
            "28\n",
            "29\n",
            "30\n",
            "31\n",
            "32\n",
            "33\n",
            "34\n",
            "35\n",
            "36\n",
            "37\n",
            "38\n",
            "39\n",
            "40\n",
            "41\n",
            "42\n",
            "43\n",
            "44\n",
            "45\n",
            "46\n",
            "47\n",
            "48\n",
            "49\n"
          ]
        }
      ]
    },
    {
      "cell_type": "code",
      "source": [],
      "metadata": {
        "id": "iqgIitGr-k3T"
      },
      "execution_count": null,
      "outputs": []
    }
  ]
}