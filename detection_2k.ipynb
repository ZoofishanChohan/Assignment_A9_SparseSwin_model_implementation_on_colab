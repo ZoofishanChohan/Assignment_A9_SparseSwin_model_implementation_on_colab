{
  "nbformat": 4,
  "nbformat_minor": 0,
  "metadata": {
    "colab": {
      "provenance": [],
      "gpuType": "L4",
      "authorship_tag": "ABX9TyMnf4XBo5BuM7a2hC66RGT9",
      "include_colab_link": true
    },
    "kernelspec": {
      "name": "python3",
      "display_name": "Python 3"
    },
    "language_info": {
      "name": "python"
    },
    "accelerator": "GPU"
  },
  "cells": [
    {
      "cell_type": "markdown",
      "metadata": {
        "id": "view-in-github",
        "colab_type": "text"
      },
      "source": [
        "<a href=\"https://colab.research.google.com/github/ZoofishanChohan/Assignment_A9_SparseSwin_model_implementation_on_colab/blob/main/detection_2k.ipynb\" target=\"_parent\"><img src=\"https://colab.research.google.com/assets/colab-badge.svg\" alt=\"Open In Colab\"/></a>"
      ]
    },
    {
      "cell_type": "code",
      "execution_count": null,
      "metadata": {
        "id": "5Zk4dpq9ATFK"
      },
      "outputs": [],
      "source": [
        "%cd /content\n",
        "!git clone https://github.com/KrisnaPinasthika/SparseSwin.git\n",
        "%cd SparseSwin/SparseSwinDet\n"
      ]
    },
    {
      "cell_type": "code",
      "source": [
        "!pip install -r requirements.txt"
      ],
      "metadata": {
        "id": "sdBAXtdbAcrr"
      },
      "execution_count": null,
      "outputs": []
    },
    {
      "cell_type": "code",
      "source": [
        "!pip install torchprofile"
      ],
      "metadata": {
        "id": "BojhARoQQzH-"
      },
      "execution_count": null,
      "outputs": []
    },
    {
      "cell_type": "code",
      "source": [
        "from google.colab import drive\n",
        "drive.mount('/content/drive')"
      ],
      "metadata": {
        "colab": {
          "base_uri": "https://localhost:8080/"
        },
        "id": "oglOolVJAvx5",
        "outputId": "589afaec-a81e-4b93-f968-60fe9ca94a9a"
      },
      "execution_count": null,
      "outputs": [
        {
          "output_type": "stream",
          "name": "stdout",
          "text": [
            "Mounted at /content/drive\n"
          ]
        }
      ]
    },
    {
      "cell_type": "code",
      "source": [
        "!python train.py \\\n",
        "--data_path /content/drive/MyDrive/coco_subset_2000/ \\\n",
        "--sparseswin_type tiny  \\\n",
        "--num_epochs 20 \\\n",
        "--log_path /content/drive/MyDrive/coco_2k_training/logs \\\n",
        "--saved_path /content/drive/MyDrive/coco_2k_training/trainedparams"
      ],
      "metadata": {
        "colab": {
          "base_uri": "https://localhost:8080/"
        },
        "id": "00vhzkU5A0BW",
        "outputId": "8d334ed7-0dcc-4d19-a32c-052031bfd360"
      },
      "execution_count": null,
      "outputs": [
        {
          "output_type": "stream",
          "name": "stdout",
          "text": [
            "loading annotations into memory...\n",
            "Done (t=1.33s)\n",
            "creating index...\n",
            "index created!\n",
            "loading annotations into memory...\n",
            "Done (t=0.55s)\n",
            "creating index...\n",
            "index created!\n",
            "Downloading: \"https://download.pytorch.org/models/swin_t-704ceda3.pth\" to /root/.cache/torch/hub/checkpoints/swin_t-704ceda3.pth\n",
            "100% 108M/108M [00:00<00:00, 216MB/s]\n",
            "/usr/local/lib/python3.11/dist-packages/torch/optim/lr_scheduler.py:62: UserWarning: The verbose parameter is deprecated. Please use get_last_lr() to access the learning rate.\n",
            "  warnings.warn(\n",
            "Epoch: 1/20. Iteration: 250/250. Cls loss: 0.88095. Reg loss: 0.99763. Batch loss: 1.87858 Total loss: 2.02534: 100% 250/250 [07:02<00:00,  1.69s/it]\n",
            "Epoch: 1/20. Classification loss: 0.91268. Regression loss: 0.93777. Total loss: 1.85045\n",
            "Epoch: 2/20. Iteration: 250/250. Cls loss: 0.78662. Reg loss: 0.90257. Batch loss: 1.68918 Total loss: 1.82047: 100% 250/250 [02:23<00:00,  1.74it/s]\n",
            "Epoch: 2/20. Classification loss: 0.86842. Regression loss: 0.86485. Total loss: 1.73327\n",
            "Epoch: 3/20. Iteration: 250/250. Cls loss: 0.79370. Reg loss: 0.75080. Batch loss: 1.54450 Total loss: 1.67661: 100% 250/250 [02:24<00:00,  1.73it/s]\n",
            "Epoch: 3/20. Classification loss: 0.81221. Regression loss: 0.79659. Total loss: 1.60880\n",
            "Epoch: 4/20. Iteration: 250/250. Cls loss: 0.75590. Reg loss: 0.75088. Batch loss: 1.50678 Total loss: 1.55640: 100% 250/250 [02:24<00:00,  1.73it/s]\n",
            "Epoch: 4/20. Classification loss: 0.75604. Regression loss: 0.74912. Total loss: 1.50516\n",
            "Epoch: 5/20. Iteration: 250/250. Cls loss: 0.67260. Reg loss: 0.80940. Batch loss: 1.48201 Total loss: 1.44804: 100% 250/250 [02:25<00:00,  1.72it/s]\n",
            "Epoch: 5/20. Classification loss: 0.72000. Regression loss: 0.71774. Total loss: 1.43775\n",
            "Epoch: 6/20. Iteration: 250/250. Cls loss: 0.69439. Reg loss: 0.78845. Batch loss: 1.48283 Total loss: 1.36709: 100% 250/250 [02:24<00:00,  1.73it/s]\n",
            "Epoch: 6/20. Classification loss: 0.69870. Regression loss: 0.69720. Total loss: 1.39590\n",
            "Epoch: 7/20. Iteration: 250/250. Cls loss: 0.55395. Reg loss: 0.66252. Batch loss: 1.21648 Total loss: 1.29225: 100% 250/250 [02:24<00:00,  1.72it/s]\n",
            "Epoch: 7/20. Classification loss: 0.67385. Regression loss: 0.67625. Total loss: 1.35010\n",
            "Epoch: 8/20. Iteration: 250/250. Cls loss: 0.66336. Reg loss: 0.69393. Batch loss: 1.35729 Total loss: 1.22745: 100% 250/250 [02:25<00:00,  1.72it/s]\n",
            "Epoch: 8/20. Classification loss: 0.66157. Regression loss: 0.67469. Total loss: 1.33626\n",
            "Epoch: 9/20. Iteration: 250/250. Cls loss: 0.45068. Reg loss: 0.50471. Batch loss: 0.95539 Total loss: 1.17308: 100% 250/250 [02:25<00:00,  1.72it/s]\n",
            "Epoch: 9/20. Classification loss: 0.64437. Regression loss: 0.66118. Total loss: 1.30555\n",
            "Epoch: 10/20. Iteration: 250/250. Cls loss: 0.58375. Reg loss: 0.63030. Batch loss: 1.21405 Total loss: 1.12150: 100% 250/250 [02:25<00:00,  1.72it/s]\n",
            "Epoch: 10/20. Classification loss: 0.63690. Regression loss: 0.65631. Total loss: 1.29321\n",
            "Epoch: 11/20. Iteration: 250/250. Cls loss: 0.50167. Reg loss: 0.50396. Batch loss: 1.00563 Total loss: 1.06406: 100% 250/250 [02:25<00:00,  1.71it/s]\n",
            "Epoch: 11/20. Classification loss: 0.64427. Regression loss: 0.64821. Total loss: 1.29247\n",
            "Epoch: 12/20. Iteration: 250/250. Cls loss: 0.51852. Reg loss: 0.54280. Batch loss: 1.06132 Total loss: 1.02834: 100% 250/250 [02:22<00:00,  1.75it/s]\n",
            "Epoch: 12/20. Classification loss: 0.61492. Regression loss: 0.64517. Total loss: 1.26009\n",
            "Epoch: 13/20. Iteration: 250/250. Cls loss: 0.49508. Reg loss: 0.38958. Batch loss: 0.88465 Total loss: 0.98802: 100% 250/250 [02:25<00:00,  1.72it/s]\n",
            "Epoch: 13/20. Classification loss: 0.60058. Regression loss: 0.64655. Total loss: 1.24712\n",
            "Epoch: 14/20. Iteration: 250/250. Cls loss: 0.38359. Reg loss: 0.40558. Batch loss: 0.78918 Total loss: 0.95451: 100% 250/250 [02:24<00:00,  1.73it/s]\n",
            "Epoch: 14/20. Classification loss: 0.63200. Regression loss: 0.64124. Total loss: 1.27325\n",
            "Epoch: 15/20. Iteration: 250/250. Cls loss: 0.46342. Reg loss: 0.48271. Batch loss: 0.94613 Total loss: 0.91933: 100% 250/250 [02:22<00:00,  1.75it/s]\n",
            "Epoch: 15/20. Classification loss: 0.61076. Regression loss: 0.64663. Total loss: 1.25739\n",
            "Epoch: 16/20. Iteration: 250/250. Cls loss: 0.43079. Reg loss: 0.50125. Batch loss: 0.93204 Total loss: 0.88554: 100% 250/250 [02:23<00:00,  1.74it/s]\n",
            "Epoch: 16/20. Classification loss: 0.61343. Regression loss: 0.64465. Total loss: 1.25808\n",
            "Epoch: 17/20. Iteration: 250/250. Cls loss: 0.40518. Reg loss: 0.44134. Batch loss: 0.84652 Total loss: 0.85451: 100% 250/250 [02:23<00:00,  1.74it/s]\n",
            "Epoch: 17/20. Classification loss: 0.61434. Regression loss: 0.63891. Total loss: 1.25325\n",
            "Epoch: 18/20. Iteration: 250/250. Cls loss: 0.45797. Reg loss: 0.56186. Batch loss: 1.01983 Total loss: 0.82819: 100% 250/250 [02:23<00:00,  1.75it/s]\n",
            "Epoch: 18/20. Classification loss: 0.67285. Regression loss: 0.64866. Total loss: 1.32151\n",
            "Epoch: 19/20. Iteration: 250/250. Cls loss: 0.51399. Reg loss: 0.44064. Batch loss: 0.95463 Total loss: 0.80167: 100% 250/250 [02:23<00:00,  1.74it/s]\n",
            "Epoch: 19/20. Classification loss: 0.62334. Regression loss: 0.64080. Total loss: 1.26414\n",
            "Epoch: 20/20. Iteration: 250/250. Cls loss: 0.31292. Reg loss: 0.39397. Batch loss: 0.70689 Total loss: 0.77972: 100% 250/250 [02:23<00:00,  1.74it/s]\n",
            "Epoch: 20/20. Classification loss: 0.60803. Regression loss: 0.63989. Total loss: 1.24792\n"
          ]
        }
      ]
    },
    {
      "cell_type": "code",
      "source": [
        "import time\n",
        "import random\n",
        "\n",
        "# Add this to keep the session active\n",
        "while True:\n",
        "    print(f\"Keeping session alive: {time.strftime('%Y-%m-%d %H:%M:%S')}\")\n",
        "    time.sleep(300)  # Print every 5 minutes\n",
        "    # Add some random computation to show activity\n",
        "    dummy = sum([random.randint(1,100) for _ in range(1000)])"
      ],
      "metadata": {
        "id": "kbP-2_VQMSZy"
      },
      "execution_count": null,
      "outputs": []
    },
    {
      "cell_type": "code",
      "source": [
        "! python mAP_evaluation.py"
      ],
      "metadata": {
        "colab": {
          "base_uri": "https://localhost:8080/"
        },
        "id": "6lntVQuhQLw7",
        "outputId": "f2319bba-07ae-40c6-a48c-1f7118ac92a3"
      },
      "execution_count": null,
      "outputs": [
        {
          "output_type": "stream",
          "name": "stdout",
          "text": [
            "loading annotations into memory...\n",
            "Done (t=0.10s)\n",
            "creating index...\n",
            "index created!\n",
            "Loading and preparing results...\n",
            "DONE (t=0.16s)\n",
            "creating index...\n",
            "index created!\n",
            "Running per image evaluation...\n",
            "Evaluate annotation type *bbox*\n",
            "DONE (t=2.33s).\n",
            "Accumulating evaluation results...\n",
            "DONE (t=0.55s).\n",
            " Average Precision  (AP) @[ IoU=0.50:0.95 | area=   all | maxDets=100 ] = 0.019\n",
            " Average Precision  (AP) @[ IoU=0.50      | area=   all | maxDets=100 ] = 0.040\n",
            " Average Precision  (AP) @[ IoU=0.75      | area=   all | maxDets=100 ] = 0.017\n",
            " Average Precision  (AP) @[ IoU=0.50:0.95 | area= small | maxDets=100 ] = 0.001\n",
            " Average Precision  (AP) @[ IoU=0.50:0.95 | area=medium | maxDets=100 ] = 0.019\n",
            " Average Precision  (AP) @[ IoU=0.50:0.95 | area= large | maxDets=100 ] = 0.031\n",
            " Average Recall     (AR) @[ IoU=0.50:0.95 | area=   all | maxDets=  1 ] = 0.029\n",
            " Average Recall     (AR) @[ IoU=0.50:0.95 | area=   all | maxDets= 10 ] = 0.035\n",
            " Average Recall     (AR) @[ IoU=0.50:0.95 | area=   all | maxDets=100 ] = 0.036\n",
            " Average Recall     (AR) @[ IoU=0.50:0.95 | area= small | maxDets=100 ] = 0.001\n",
            " Average Recall     (AR) @[ IoU=0.50:0.95 | area=medium | maxDets=100 ] = 0.027\n",
            " Average Recall     (AR) @[ IoU=0.50:0.95 | area= large | maxDets=100 ] = 0.057\n"
          ]
        }
      ]
    },
    {
      "cell_type": "code",
      "source": [
        "!cp -r /content/SparseSwin /content/drive/MyDrive/SparseSwin_detection/"
      ],
      "metadata": {
        "id": "HkbwGs5HQt13"
      },
      "execution_count": null,
      "outputs": []
    }
  ]
}