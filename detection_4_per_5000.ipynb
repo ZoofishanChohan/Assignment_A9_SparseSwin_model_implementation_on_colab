{
  "nbformat": 4,
  "nbformat_minor": 0,
  "metadata": {
    "colab": {
      "provenance": [],
      "gpuType": "L4",
      "authorship_tag": "ABX9TyPGe1Uy8HT8mFW117cL2eNt",
      "include_colab_link": true
    },
    "kernelspec": {
      "name": "python3",
      "display_name": "Python 3"
    },
    "language_info": {
      "name": "python"
    },
    "accelerator": "GPU"
  },
  "cells": [
    {
      "cell_type": "markdown",
      "metadata": {
        "id": "view-in-github",
        "colab_type": "text"
      },
      "source": [
        "<a href=\"https://colab.research.google.com/github/ZoofishanChohan/Assignment_A9_SparseSwin_model_implementation_on_colab/blob/main/detection_4__5000.ipynb\" target=\"_parent\"><img src=\"https://colab.research.google.com/assets/colab-badge.svg\" alt=\"Open In Colab\"/></a>"
      ]
    },
    {
      "cell_type": "code",
      "execution_count": null,
      "metadata": {
        "id": "w3CLaQ6yqaPS"
      },
      "outputs": [],
      "source": [
        "%cd /content\n",
        "!git clone https://github.com/KrisnaPinasthika/SparseSwin.git\n",
        "%cd SparseSwin/SparseSwinDet\n"
      ]
    },
    {
      "cell_type": "code",
      "source": [
        "!pip install -r requirements.txt"
      ],
      "metadata": {
        "id": "DzXq1GNwr0x2"
      },
      "execution_count": null,
      "outputs": []
    },
    {
      "cell_type": "code",
      "source": [
        "!pip install torchprofile"
      ],
      "metadata": {
        "id": "5ORKYF9M1onv"
      },
      "execution_count": null,
      "outputs": []
    },
    {
      "cell_type": "code",
      "source": [
        "from google.colab import drive\n",
        "drive.mount('/content/drive')"
      ],
      "metadata": {
        "colab": {
          "base_uri": "https://localhost:8080/"
        },
        "id": "9DQ0S6pWgZ7X",
        "outputId": "a8512091-dfbe-4392-bd16-47d4df58ffd1"
      },
      "execution_count": null,
      "outputs": [
        {
          "output_type": "stream",
          "name": "stdout",
          "text": [
            "Mounted at /content/drive\n"
          ]
        }
      ]
    },
    {
      "cell_type": "code",
      "source": [
        "import time\n",
        "import random\n",
        "\n",
        "# Add this to keep the session active\n",
        "while True:\n",
        "    print(f\"Keeping session alive: {time.strftime('%Y-%m-%d %H:%M:%S')}\")\n",
        "    time.sleep(300)  # Print every 5 minutes\n",
        "    # Add some random computation to show activity\n",
        "    dummy = sum([random.randint(1,100) for _ in range(1000)])"
      ],
      "metadata": {
        "id": "sfivEKqfEev2"
      },
      "execution_count": null,
      "outputs": []
    },
    {
      "cell_type": "code",
      "source": [
        "!python train.py \\\n",
        "--data_path /content/drive/MyDrive/coco_subset_5_per/ \\\n",
        "--sparseswin_type tiny  \\\n",
        "--num_epochs 10 \\\n",
        "--log_path /content/drive/MyDrive/coco_5_per_training/logs \\\n",
        "--saved_path /content/drive/MyDrive/coco_5_per_training/trainedparams\n"
      ],
      "metadata": {
        "id": "nmv7WFCxxgBM",
        "colab": {
          "base_uri": "https://localhost:8080/"
        },
        "outputId": "a06348e6-b9d6-49e5-db88-ef3f30a68c9a"
      },
      "execution_count": null,
      "outputs": [
        {
          "output_type": "stream",
          "name": "stdout",
          "text": [
            "loading annotations into memory...\n",
            "Done (t=0.79s)\n",
            "creating index...\n",
            "index created!\n",
            "loading annotations into memory...\n",
            "Done (t=0.03s)\n",
            "creating index...\n",
            "index created!\n",
            "/usr/local/lib/python3.11/dist-packages/torch/optim/lr_scheduler.py:62: UserWarning: The verbose parameter is deprecated. Please use get_last_lr() to access the learning rate.\n",
            "  warnings.warn(\n",
            "Epoch: 1/10. Iteration: 706/706. Cls loss: 0.71504. Reg loss: 0.87239. Batch loss: 1.58743 Total loss: 1.78172: 100% 706/706 [08:32<00:00,  1.38it/s]\n",
            "Epoch: 1/10. Classification loss: 0.68381. Regression loss: 0.82032. Total loss: 1.50413\n",
            "Epoch: 2/10. Iteration: 706/706. Cls loss: 0.60072. Reg loss: 0.73599. Batch loss: 1.33671 Total loss: 1.48869: 100% 706/706 [06:24<00:00,  1.84it/s]\n",
            "Epoch: 2/10. Classification loss: 0.59025. Regression loss: 0.72265. Total loss: 1.31290\n",
            "Epoch: 3/10. Iteration: 706/706. Cls loss: 0.49294. Reg loss: 0.63394. Batch loss: 1.12688 Total loss: 1.29413: 100% 706/706 [06:26<00:00,  1.83it/s]\n",
            "Epoch: 3/10. Classification loss: 0.50168. Regression loss: 0.65998. Total loss: 1.16167\n",
            "Epoch: 4/10. Iteration: 706/706. Cls loss: 0.43507. Reg loss: 0.66520. Batch loss: 1.10027 Total loss: 1.14629: 100% 706/706 [06:26<00:00,  1.83it/s]\n",
            "Epoch: 4/10. Classification loss: 0.46643. Regression loss: 0.63703. Total loss: 1.10346\n",
            "Epoch: 5/10. Iteration: 706/706. Cls loss: 0.42227. Reg loss: 0.66185. Batch loss: 1.08412 Total loss: 1.03575: 100% 706/706 [06:25<00:00,  1.83it/s]\n",
            "Epoch: 5/10. Classification loss: 0.43713. Regression loss: 0.60806. Total loss: 1.04519\n",
            "Epoch: 6/10. Iteration: 706/706. Cls loss: 0.34059. Reg loss: 0.49830. Batch loss: 0.83889 Total loss: 0.95085: 100% 706/706 [06:27<00:00,  1.82it/s]\n",
            "Epoch: 6/10. Classification loss: 0.44780. Regression loss: 0.58999. Total loss: 1.03779\n",
            "Epoch: 7/10. Iteration: 706/706. Cls loss: 0.34863. Reg loss: 0.39632. Batch loss: 0.74495 Total loss: 0.88946: 100% 706/706 [06:26<00:00,  1.83it/s]\n",
            "Epoch: 7/10. Classification loss: 0.39176. Regression loss: 0.58232. Total loss: 0.97408\n",
            "Epoch: 8/10. Iteration: 706/706. Cls loss: 0.35752. Reg loss: 0.56220. Batch loss: 0.91972 Total loss: 0.82529: 100% 706/706 [06:26<00:00,  1.82it/s]\n",
            "Epoch: 8/10. Classification loss: 0.38402. Regression loss: 0.57921. Total loss: 0.96323\n",
            "Epoch: 9/10. Iteration: 706/706. Cls loss: 0.32422. Reg loss: 0.50660. Batch loss: 0.83082 Total loss: 0.77630: 100% 706/706 [06:26<00:00,  1.83it/s]\n",
            "Epoch: 9/10. Classification loss: 0.40767. Regression loss: 0.56521. Total loss: 0.97288\n",
            "Epoch: 10/10. Iteration: 706/706. Cls loss: 0.23907. Reg loss: 0.42398. Batch loss: 0.66305 Total loss: 0.72973: 100% 706/706 [06:24<00:00,  1.84it/s]\n",
            "Epoch: 10/10. Classification loss: 0.42994. Regression loss: 0.57314. Total loss: 1.00308\n"
          ]
        }
      ]
    },
    {
      "cell_type": "code",
      "source": [
        "!python mAP_evaluation.py"
      ],
      "metadata": {
        "colab": {
          "base_uri": "https://localhost:8080/"
        },
        "id": "M6F_1VXFOmTS",
        "outputId": "03abb963-acef-4e15-dbf3-beb12aa0855d"
      },
      "execution_count": null,
      "outputs": [
        {
          "output_type": "stream",
          "name": "stdout",
          "text": [
            "loading annotations into memory...\n",
            "Done (t=0.02s)\n",
            "creating index...\n",
            "index created!\n",
            "Loading and preparing results...\n",
            "DONE (t=0.01s)\n",
            "creating index...\n",
            "index created!\n",
            "Running per image evaluation...\n",
            "Evaluate annotation type *bbox*\n",
            "DONE (t=0.50s).\n",
            "Accumulating evaluation results...\n",
            "DONE (t=0.08s).\n",
            " Average Precision  (AP) @[ IoU=0.50:0.95 | area=   all | maxDets=100 ] = 0.081\n",
            " Average Precision  (AP) @[ IoU=0.50      | area=   all | maxDets=100 ] = 0.192\n",
            " Average Precision  (AP) @[ IoU=0.75      | area=   all | maxDets=100 ] = 0.058\n",
            " Average Precision  (AP) @[ IoU=0.50:0.95 | area= small | maxDets=100 ] = 0.025\n",
            " Average Precision  (AP) @[ IoU=0.50:0.95 | area=medium | maxDets=100 ] = 0.125\n",
            " Average Precision  (AP) @[ IoU=0.50:0.95 | area= large | maxDets=100 ] = 0.238\n",
            " Average Recall     (AR) @[ IoU=0.50:0.95 | area=   all | maxDets=  1 ] = 0.063\n",
            " Average Recall     (AR) @[ IoU=0.50:0.95 | area=   all | maxDets= 10 ] = 0.132\n",
            " Average Recall     (AR) @[ IoU=0.50:0.95 | area=   all | maxDets=100 ] = 0.141\n",
            " Average Recall     (AR) @[ IoU=0.50:0.95 | area= small | maxDets=100 ] = 0.031\n",
            " Average Recall     (AR) @[ IoU=0.50:0.95 | area=medium | maxDets=100 ] = 0.224\n",
            " Average Recall     (AR) @[ IoU=0.50:0.95 | area= large | maxDets=100 ] = 0.387\n"
          ]
        }
      ]
    }
  ]
}
